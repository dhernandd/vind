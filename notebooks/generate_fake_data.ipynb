{
 "cells": [
  {
   "cell_type": "markdown",
   "metadata": {},
   "source": [
    "# *Data-generating notebook*"
   ]
  },
  {
   "cell_type": "code",
   "execution_count": 8,
   "metadata": {
    "collapsed": true
   },
   "outputs": [],
   "source": [
    "%matplotlib inline"
   ]
  },
  {
   "cell_type": "code",
   "execution_count": 9,
   "metadata": {
    "collapsed": true
   },
   "outputs": [],
   "source": [
    "import os\n",
    "import sys\n",
    "sys.path.append('../code')\n",
    "import time\n",
    "\n",
    "import matplotlib.pyplot as plt\n",
    "import seaborn as sns\n",
    "import numpy as np\n",
    "import tensorflow as tf\n",
    "\n",
    "from LatEvModels import LocallyLinearEvolution\n",
    "from ObservationModels import PoissonObs\n",
    "\n",
    "DTYPE = tf.float32"
   ]
  },
  {
   "cell_type": "markdown",
   "metadata": {},
   "source": [
    "### The `generate_fake_data` function - defined below - calls the Evolution and Observation models. These accept some parameters, that should be passed to `generate_fake_data` as attributes of an instance of the class `Params`. (this hassle is for compatibility with `tensorflow`'s flags).\n",
    "\n",
    "### Importantly, the `xDim` and `yDim` parameters set the dimensions of the latent space and generated data respectively"
   ]
  },
  {
   "cell_type": "code",
   "execution_count": 10,
   "metadata": {
    "collapsed": true
   },
   "outputs": [],
   "source": [
    "class Params():\n",
    "    \"\"\"\n",
    "    \"\"\"\n",
    "    def __init__(self):\n",
    "        self.xDim = 2\n",
    "        self.yDim = 20\n",
    "        \n",
    "        self.initrange_MuX = 0.2\n",
    "        self.initrange_B = 3.0\n",
    "        self.init_Q0 = 1.0\n",
    "        self.init_Q = 1.0\n",
    "        self.alpha = 0.5\n",
    "        self.initrange_outY = 3.0\n",
    "params = Params()"
   ]
  },
  {
   "cell_type": "markdown",
   "metadata": {},
   "source": [
    "### This function generates the data and provides some visualization at your convenience"
   ]
  },
  {
   "cell_type": "code",
   "execution_count": 11,
   "metadata": {
    "collapsed": true
   },
   "outputs": [],
   "source": [
    "def generate_fake_data(lat_mod_class, gen_mod_class, params,\n",
    "                       data_path=None,\n",
    "                       save_data_file=None,\n",
    "                       Nsamps=100,\n",
    "                       NTbins=30,\n",
    "                       write_params_file=False,\n",
    "                       draw_quiver=False,\n",
    "                       draw_heat_maps=True,\n",
    "                       savefigs=False):\n",
    "    \"\"\"\n",
    "    Generate synthetic data by defining a model of latent evolution, an observation model, \n",
    "    and subsequently drawing samples from them. Optionally, it pickles the data for later \n",
    "    use. Maybe you would like to train a model? ;)\n",
    "    \n",
    "    Args:\n",
    "        params: Object whose attributes are the hyperparameters of the evolution and\n",
    "                observation models. These include in particular `xDim` and `yDim`: the\n",
    "                dimensions of the latent space and observations \n",
    "        lat_mod_class: A string that is a key to the evolution model class. Currently \n",
    "                    'llinear' -> `LocallyLinearEvolution` is implemented.\n",
    "        gen_mod_class: A string that is a key to the observation model class. Currently\n",
    "                    'Poisson' -> `PoissonObs` is implemented\n",
    "        data_path: The local directory where the generated data should be stored. If None,\n",
    "                    don't store shit.\n",
    "        save_data_file: The name of the file to hold your data\n",
    "        Nsamps: Number of trials to generate\n",
    "        NTbins: Number of time steps to run.\n",
    "        write_params_file: Would you like the parameters with which this data has been \n",
    "                    generated to be saved to a separate txt file?\n",
    "    \n",
    "    Returns:\n",
    "        Ydata, Xdata: Tuple of 3D tensors of generated synthetic data with shapes\n",
    "                    [Nsamps, NTbins, dim] where dim is yDim/xDim.\n",
    "    \"\"\"    \n",
    "    print('Generating some fake data...!\\n')\n",
    "    lat_mod_classes = {'llinear' : LocallyLinearEvolution}\n",
    "    gen_mod_classes = {'Poisson' : PoissonObs}\n",
    "\n",
    "    evolution_class = lat_mod_classes[lat_mod_class]\n",
    "    generator_class = gen_mod_classes[gen_mod_class]\n",
    "\n",
    "    if data_path:\n",
    "        if not type(save_data_file) is str:\n",
    "            raise ValueError(\"`save_data_file` must be string (representing the name of your file) \"\n",
    "                             \"if you intend to save the data (`data_path` is not None)\")\n",
    "        if not os.path.exists(data_path): os.makedirs(data_path)\n",
    "        if write_params_file:\n",
    "            write_option_file(data_path)\n",
    "    \n",
    "    # Generate data\n",
    "    tf.reset_default_graph()\n",
    "    graph = tf.Graph()\n",
    "    with graph.as_default():\n",
    "        with tf.Session() as sess:\n",
    "            xDim = params.xDim\n",
    "            yDim = params.yDim\n",
    "            if not Nsamps: Nsamps = params.genNsamps\n",
    "            if not NTbins: NTbins = params.genNTbins\n",
    "\n",
    "            # Define the models\n",
    "            X = tf.placeholder(DTYPE, shape=[None, None, xDim], name='X')\n",
    "            Y = tf.placeholder(DTYPE, shape=[None, None, yDim], name='Y')\n",
    "            latm = evolution_class(X, params)\n",
    "            genm = generator_class(Y, X, params, latm, is_out_positive=True)\n",
    "            \n",
    "            # Divide the data in train, validation and test\n",
    "            Nsamps_train = int(4*Nsamps/5)\n",
    "            valid_test = int(Nsamps/10)\n",
    "            sess.run(tf.global_variables_initializer())\n",
    "            Ydata, Xdata = genm.sample_XY(sess, 'X:0', Nsamps=Nsamps, NTbins=NTbins, with_inflow=True)\n",
    "            Ytrain, Xtrain = Ydata[:Nsamps_train], Xdata[:Nsamps_train]\n",
    "            Yvalid, Xvalid = Ydata[Nsamps_train:valid_test], Xdata[Nsamps_train:valid_test]\n",
    "            Ytest, Xtest = Ydata[valid_test:], Xdata[valid_test:]\n",
    "\n",
    "            # If xDim == 2, draw a cool path plot\n",
    "            if draw_quiver and xDim == 2:\n",
    "                latm.plot_2Dquiver_paths(sess, Xdata, 'X:0', rlt_dir=data_path,\n",
    "                                     with_inflow=True, savefig=savefigs)\n",
    "            if draw_heat_maps:\n",
    "                print(\"Let's take a look at a couple heat maps of the actual data now\")\n",
    "                maxY = np.max(Ydata)\n",
    "                fig, axes = plt.subplots(1,3, figsize=(18,4))\n",
    "                for i in range(3):\n",
    "                    sns.heatmap(Ydata[i].T, yticklabels=False, vmax=maxY, ax=axes[i]).get_figure()\n",
    "                    if savefigs:\n",
    "                        plt.savefig(data_path + \"heat\" + str(i) + \".png\")\n",
    "                plt.show()\n",
    "                plt.close()\n",
    "            \n",
    "    if data_path:\n",
    "        datadict = {'Ytrain' : Ytrain, 'Yvalid' : Yvalid, 'Xtrain' : Xtrain, 'Xvalid' : Xvalid,\n",
    "                    'Ytest' : Ytest, 'Xtest' : Xtest}\n",
    "        with open(data_path + save_data_file, 'wb+') as data_file:\n",
    "            pickle.dump(datadict, data_file)\n",
    "    \n",
    "        if params.save_to_vind: # for old Python 2 code. Not guaranteed to work.\n",
    "            with open(data_path + save_data_file + '_vind', 'wb+') as data_file:\n",
    "                pickle.dump(datadict, data_file, protocol=2)\n",
    "            \n",
    "    return Ydata, Xdata"
   ]
  },
  {
   "cell_type": "markdown",
   "metadata": {},
   "source": [
    "### Generate the data then.\n",
    "\n",
    "### Playing with the parameters in `params` will lead to different plots. Some of them may be nuts ;)"
   ]
  },
  {
   "cell_type": "code",
   "execution_count": 12,
   "metadata": {},
   "outputs": [
    {
     "name": "stdout",
     "output_type": "stream",
     "text": [
      "Generating some fake data...!\n",
      "\n",
      "Sampling from latent dynamics...\n",
      "Let's take a look at a couple heat maps of the actual data now\n"
     ]
    },
    {
     "data": {
      "image/png": "[encoded data removed]",
      "text/plain": [
       "<matplotlib.figure.Figure at 0x12516f850>"
      ]
     },
     "metadata": {},
     "output_type": "display_data"
    }
   ],
   "source": [
    "Ydata, Xdata = generate_fake_data(lat_mod_class='llinear',\n",
    "                           gen_mod_class='Poisson', params=params,\n",
    "                           data_path=None,\n",
    "                           save_data_file=None,\n",
    "                           write_params_file=False,\n",
    "                           draw_quiver=True,\n",
    "                           draw_heat_maps=True,\n",
    "                           savefigs=False)"
   ]
  },
  {
   "cell_type": "markdown",
   "metadata": {
    "collapsed": true
   },
   "source": [
    "In the above, the *x*-axis represents time, the *y*-axis are the number of neurons in the data (dimensions). The plots show the activity of said neurons."
   ]
  },
  {
   "cell_type": "code",
   "execution_count": null,
   "metadata": {
    "collapsed": true
   },
   "outputs": [],
   "source": []
  }
 ],
 "metadata": {
  "kernelspec": {
   "display_name": "Python 3",
   "language": "python",
   "name": "python3"
  },
  "language_info": {
   "codemirror_mode": {
    "name": "ipython",
    "version": 3
   },
   "file_extension": ".py",
   "mimetype": "text/x-python",
   "name": "python",
   "nbconvert_exporter": "python",
   "pygments_lexer": "ipython3",
   "version": "3.5.4"
  }
 },
 "nbformat": 4,
 "nbformat_minor": 2
}
