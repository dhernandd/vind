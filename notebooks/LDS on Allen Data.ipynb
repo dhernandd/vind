{
 "cells": [
  {
   "cell_type": "markdown",
   "metadata": {},
   "source": [
    "# Fit an LDS to the Allen Data"
   ]
  },
  {
   "cell_type": "code",
   "execution_count": 7,
   "metadata": {},
   "outputs": [],
   "source": [
    "import numpy as np\n",
    "import scipy as sp\n",
    "import matplotlib.pyplot as plt\n",
    "import seaborn as sns\n",
    "import pickle\n",
    "from pykalman import KalmanFilter\n",
    "import pdb"
   ]
  },
  {
   "cell_type": "code",
   "execution_count": 8,
   "metadata": {},
   "outputs": [],
   "source": [
    "datadir = '/Users/antoniomoretti/Desktop/dhern-ts_wcommona-b4b1ad88b3aa/data/allendata/'\n",
    "\n",
    "with open(datadir + \"allendatadict_030\", 'rb') as handle:\n",
    "    data = pickle.load(handle, encoding='latin1')"
   ]
  },
  {
   "cell_type": "code",
   "execution_count": 9,
   "metadata": {},
   "outputs": [],
   "source": [
    "X = data['Ytrain']"
   ]
  },
  {
   "cell_type": "code",
   "execution_count": 10,
   "metadata": {},
   "outputs": [],
   "source": [
    "class LDS:\n",
    "    \"\"\"\n",
    "    Train an LDS with the EM algorithm, find latent paths using Kalman Filter and Smoother\n",
    "    \"\"\"\n",
    "    def __init__(self, X, Dz):\n",
    "        \"\"\"\n",
    "        Initialize observations (X) and smoothed latent state means (Z)\n",
    "        X: 3-Tensor of n_trials, NTbins, Dx\n",
    "        Z: 3-Tensor of n_trials, NTbins, Dz\n",
    "        \"\"\"\n",
    "        self.X = X\n",
    "        self.NTrials, self.NTbins, self.Dx = X.shape\n",
    "        self.Dz = Dz\n",
    "        self.kf = KalmanFilter(n_dim_state=Dz, n_dim_obs=self.Dx)\n",
    "        self.Z = np.zeros([self.NTrials, self.NTbins, self.Dz])\n",
    "        self.filtered_paths = np.zeros([self.NTrials, self.NTbins, self.Dz])\n",
    "        self.filtered_covar = np.zeros([self.NTrials, self.NTbins, self.Dz, self.Dz])\n",
    "        self.smoothed_covar = np.zeros([self.NTrials, self.NTbins, self.Dz, self.Dz])\n",
    "        \n",
    "\n",
    "    def train(self, epochs):\n",
    "        print(\"EM Algorithm Training...\")\n",
    "        for i in range(epochs):\n",
    "            print(\"- Epoch %i\" %i)\n",
    "            for n in range(self.NTrials):\n",
    "                print(\"-- Trial %i\" %n)\n",
    "                self.kf.em(self.X[n],n_iter=1)\n",
    "\n",
    "        self.A = self.kf.transition_matrices\n",
    "        self.Q = self.kf.transition_covariance\n",
    "        self.C = self.kf.observation_matrices\n",
    "        self.Sigma = self.kf.observation_covariance\n",
    "\n",
    "    def inference(self):\n",
    "        for n in range(self.NTrials):\n",
    "            print(\"-- Trial %i\" % n)\n",
    "            self.filtered_paths[n], self.filtered_covar[n] = self.kf.filter(self.X[n])\n",
    "            self.Z[n], self.smoothed_covar[n] = self.kf.smooth(self.X[n])"
   ]
  },
  {
   "cell_type": "markdown",
   "metadata": {},
   "source": [
    "## Define an LDS and train on Allen data"
   ]
  },
  {
   "cell_type": "code",
   "execution_count": null,
   "metadata": {},
   "outputs": [
    {
     "name": "stdout",
     "output_type": "stream",
     "text": [
      "EM Algorithm Training...\n",
      "- Epoch 0\n",
      "-- Trial 0\n",
      "-- Trial 1\n",
      "-- Trial 2\n",
      "-- Trial 3\n",
      "-- Trial 4\n",
      "-- Trial 5\n",
      "-- Trial 6\n",
      "-- Trial 7\n",
      "-- Trial 8\n",
      "-- Trial 9\n",
      "-- Trial 10\n",
      "-- Trial 11\n",
      "-- Trial 12\n",
      "-- Trial 13\n",
      "-- Trial 14\n",
      "-- Trial 15\n",
      "-- Trial 16\n",
      "-- Trial 17\n"
     ]
    }
   ],
   "source": [
    "# Specify latent dimension Dz\n",
    "AllenLDS = LDS(X, Dz=5)\n",
    "# Specify number of epochs to run EM\n",
    "AllenLDS.train(epochs=100)\n",
    "# Print transition matrices\n",
    "print(AllenLDS.A)\n",
    "# Perform filtering and smoothing\n",
    "AllenLDS.inference()"
   ]
  },
  {
   "cell_type": "code",
   "execution_count": null,
   "metadata": {},
   "outputs": [],
   "source": []
  }
 ],
 "metadata": {
  "kernelspec": {
   "display_name": "Python 3",
   "language": "python",
   "name": "python3"
  },
  "language_info": {
   "codemirror_mode": {
    "name": "ipython",
    "version": 3
   },
   "file_extension": ".py",
   "mimetype": "text/x-python",
   "name": "python",
   "nbconvert_exporter": "python",
   "pygments_lexer": "ipython3",
   "version": "3.6.7"
  }
 },
 "nbformat": 4,
 "nbformat_minor": 2
}
